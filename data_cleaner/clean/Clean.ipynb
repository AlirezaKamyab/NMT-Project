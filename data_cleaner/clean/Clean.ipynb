{
 "cells": [
  {
   "cell_type": "code",
   "execution_count": 23,
   "id": "6c7be603-eca3-4ce4-b703-91755d59b265",
   "metadata": {},
   "outputs": [],
   "source": [
    "import os\n",
    "os.environ['TF_CPP_MIN_LOG_LEVEL'] = '20'\n",
    "\n",
    "import numpy as np\n",
    "import pandas as pd\n",
    "import re\n",
    "import csv\n",
    "from parsivar import Normalizer\n",
    "import unicodedata"
   ]
  },
  {
   "cell_type": "code",
   "execution_count": 24,
   "id": "dd0830f7-c06c-4d39-a63d-26f00ee5424b",
   "metadata": {},
   "outputs": [],
   "source": [
    "def is_english(text: str) -> bool:\n",
    "    # Define a regular expression pattern for English characters\n",
    "    pattern = re.compile(r'^[A-Za-z0-9\\s&,.\\'\\\"!?;:()\\-<>//+=*%$#@!\\[\\]€]+$')\n",
    "    \n",
    "    # Check if the text matches the pattern\n",
    "    if pattern.match(text):\n",
    "        return True\n",
    "    return False"
   ]
  },
  {
   "cell_type": "code",
   "execution_count": 25,
   "id": "bf5e90ce-5d95-4321-9273-94b0e6e05997",
   "metadata": {},
   "outputs": [],
   "source": [
    "def count_english_words(row):\n",
    "    if row is None:\n",
    "        return 10\n",
    "    words = row.split(' ')\n",
    "    cnt = 0\n",
    "    for word in words:\n",
    "        if re.match('[a-zA-z]+', word):\n",
    "            cnt += 1\n",
    "            \n",
    "    return cnt"
   ]
  },
  {
   "cell_type": "code",
   "execution_count": 26,
   "id": "e95017c6-959d-4a10-91e4-86aaf22bc2b0",
   "metadata": {},
   "outputs": [],
   "source": [
    "def read_data_from_dir(directory='./'):\n",
    "    files = os.listdir(directory)\n",
    "    data = []\n",
    "    for file in files:\n",
    "        if 'done' not in file: \n",
    "            continue\n",
    "        with open(file, 'r') as txtfile:\n",
    "            data.append(txtfile.read())\n",
    "\n",
    "    data = '\\n'.join(data).split('\\n')\n",
    "    data = [x.split('\\t')[:2] for x in data]\n",
    "    df = pd.DataFrame(data, columns=['Source', 'Target'])\n",
    "    return df"
   ]
  },
  {
   "cell_type": "code",
   "execution_count": 27,
   "id": "c158514e-218f-49a7-94f8-461ccabc9dfb",
   "metadata": {},
   "outputs": [
    {
     "name": "stdout",
     "output_type": "stream",
     "text": [
      "3997465\n"
     ]
    },
    {
     "data": {
      "text/html": [
       "<div>\n",
       "<style scoped>\n",
       "    .dataframe tbody tr th:only-of-type {\n",
       "        vertical-align: middle;\n",
       "    }\n",
       "\n",
       "    .dataframe tbody tr th {\n",
       "        vertical-align: top;\n",
       "    }\n",
       "\n",
       "    .dataframe thead th {\n",
       "        text-align: right;\n",
       "    }\n",
       "</style>\n",
       "<table border=\"1\" class=\"dataframe\">\n",
       "  <thead>\n",
       "    <tr style=\"text-align: right;\">\n",
       "      <th></th>\n",
       "      <th>Source</th>\n",
       "      <th>Target</th>\n",
       "    </tr>\n",
       "  </thead>\n",
       "  <tbody>\n",
       "    <tr>\n",
       "      <th>0</th>\n",
       "      <td>flash fire .</td>\n",
       "      <td>فلاش آتش .</td>\n",
       "    </tr>\n",
       "    <tr>\n",
       "      <th>1</th>\n",
       "      <td>superheats the air . burns the lungs like rice...</td>\n",
       "      <td>هوا را فوق العاده گرم می کند . ریه ها را مثل ک...</td>\n",
       "    </tr>\n",
       "    <tr>\n",
       "      <th>2</th>\n",
       "      <td>hey , guys . down here . down here .</td>\n",
       "      <td>سلام بچه ها . این پایین . این پایین .</td>\n",
       "    </tr>\n",
       "    <tr>\n",
       "      <th>3</th>\n",
       "      <td>what do you got down this corridor is the bow ...</td>\n",
       "      <td>چه چیزی در این راهرو پایین آمده است ، درست است .</td>\n",
       "    </tr>\n",
       "    <tr>\n",
       "      <th>4</th>\n",
       "      <td>theres an access hatch right there that puts u...</td>\n",
       "      <td>یک دریچه دسترسی درست در آنجا وجود دارد که ما ر...</td>\n",
       "    </tr>\n",
       "    <tr>\n",
       "      <th>...</th>\n",
       "      <td>...</td>\n",
       "      <td>...</td>\n",
       "    </tr>\n",
       "    <tr>\n",
       "      <th>5157124</th>\n",
       "      <td>The devices are connected in a daisy chain tal...</td>\n",
       "      <td>دستگاه ها به صورت زنجیره ای به هم متصل شده اند...</td>\n",
       "    </tr>\n",
       "    <tr>\n",
       "      <th>5157125</th>\n",
       "      <td>Learn more about our SC Net</td>\n",
       "      <td>درباره SC Net ما بیشتر بیاموزید</td>\n",
       "    </tr>\n",
       "    <tr>\n",
       "      <th>5157130</th>\n",
       "      <td>Premium quality third party products.</td>\n",
       "      <td>محصولات شخص ثالث با کیفیت برتر .</td>\n",
       "    </tr>\n",
       "    <tr>\n",
       "      <th>5157132</th>\n",
       "      <td>Compact. Lightweight. Protected.</td>\n",
       "      <td>فشرده . سبک وزن . محافظت شده است .</td>\n",
       "    </tr>\n",
       "    <tr>\n",
       "      <th>5157133</th>\n",
       "      <td>How will you stock mobile projection screens i...</td>\n",
       "      <td>چگونه صفحات نمایش تلفن همراه را در انبار خود ذ...</td>\n",
       "    </tr>\n",
       "  </tbody>\n",
       "</table>\n",
       "<p>3997465 rows × 2 columns</p>\n",
       "</div>"
      ],
      "text/plain": [
       "                                                    Source  \\\n",
       "0                                             flash fire .   \n",
       "1        superheats the air . burns the lungs like rice...   \n",
       "2                     hey , guys . down here . down here .   \n",
       "3        what do you got down this corridor is the bow ...   \n",
       "4        theres an access hatch right there that puts u...   \n",
       "...                                                    ...   \n",
       "5157124  The devices are connected in a daisy chain tal...   \n",
       "5157125                        Learn more about our SC Net   \n",
       "5157130              Premium quality third party products.   \n",
       "5157132                   Compact. Lightweight. Protected.   \n",
       "5157133  How will you stock mobile projection screens i...   \n",
       "\n",
       "                                                    Target  \n",
       "0                                               فلاش آتش .  \n",
       "1        هوا را فوق العاده گرم می کند . ریه ها را مثل ک...  \n",
       "2                    سلام بچه ها . این پایین . این پایین .  \n",
       "3         چه چیزی در این راهرو پایین آمده است ، درست است .  \n",
       "4        یک دریچه دسترسی درست در آنجا وجود دارد که ما ر...  \n",
       "...                                                    ...  \n",
       "5157124  دستگاه ها به صورت زنجیره ای به هم متصل شده اند...  \n",
       "5157125                    درباره SC Net ما بیشتر بیاموزید  \n",
       "5157130                   محصولات شخص ثالث با کیفیت برتر .  \n",
       "5157132                 فشرده . سبک وزن . محافظت شده است .  \n",
       "5157133  چگونه صفحات نمایش تلفن همراه را در انبار خود ذ...  \n",
       "\n",
       "[3997465 rows x 2 columns]"
      ]
     },
     "execution_count": 27,
     "metadata": {},
     "output_type": "execute_result"
    }
   ],
   "source": [
    "MAX_SOURCE_LEN = 4000\n",
    "\n",
    "fa_normalizer = Normalizer()\n",
    "\n",
    "data = read_data_from_dir()\n",
    "data['Source'] = data['Source'].str.strip().replace('...', ' ')\n",
    "data['Target'] = data['Target'].str.strip().replace('...', ' ')\n",
    "data['Target'] = data['Target'].map(lambda x: fa_normalizer.normalize(x) if x is not None else None)\n",
    "data = data.dropna()\n",
    "data['Target'] = data['Target'].map(lambda x: re.sub('\\u200c', ' ', x))\n",
    "data = data[data['Source'].map(lambda x: len(x.split(' ')) <= MAX_SOURCE_LEN)]\n",
    "data = data.drop_duplicates(keep='first')\n",
    "print(len(data))\n",
    "data"
   ]
  },
  {
   "cell_type": "code",
   "execution_count": 28,
   "id": "1ce30562-9678-4e23-afbf-6f066864a989",
   "metadata": {},
   "outputs": [],
   "source": [
    "def remove_diacritics(text):\n",
    "    # Normalize the text to decompose characters with diacritics into base characters and combining characters\n",
    "    normalized_text = unicodedata.normalize('NFKD', text)\n",
    "    \n",
    "    # Remove the combining characters\n",
    "    without_diacritics = ''.join(c for c in normalized_text if not unicodedata.combining(c))\n",
    "    \n",
    "    return without_diacritics\n",
    "\n",
    "data['Source'] = data['Source'].map(remove_diacritics)\n",
    "data['Source'] = data['Source'].map(lambda x: re.sub('—|–', '-', x))\n",
    "data['Source'] = data['Source'].map(lambda x: re.sub('»', ' ', x))\n",
    "data['Source'] = data['Source'].map(lambda x: re.sub('”', '\"', x))\n",
    "data['Source'] = data['Source'].map(lambda x: re.sub('“', '\"', x))\n",
    "data['Source'] = data['Source'].map(lambda x: re.sub('‘', \"'\", x))\n",
    "data['Source'] = data['Source'].map(lambda x: re.sub('’', \"'\", x))\n",
    "data['Source'] = data['Source'].map(lambda x: re.sub('•|§', \" \", x))"
   ]
  },
  {
   "cell_type": "code",
   "execution_count": 29,
   "id": "b290f388-a7b1-462a-8675-e0fbbfee144b",
   "metadata": {},
   "outputs": [
    {
     "name": "stdout",
     "output_type": "stream",
     "text": [
      "Checked  3997465"
     ]
    }
   ],
   "source": [
    "to_remove = []\n",
    "for i in range(data.shape[0]):\n",
    "    text = data.iloc[i].Source\n",
    "    index = int(data.iloc[i].name)\n",
    "    if not is_english(text):\n",
    "        to_remove.append(index)\n",
    "    print(f'\\rChecked {i+1:>8}', end='')"
   ]
  },
  {
   "cell_type": "code",
   "execution_count": 30,
   "id": "2325fa6e-db16-4f38-b0bf-9e9de7c7bf06",
   "metadata": {},
   "outputs": [
    {
     "data": {
      "text/plain": [
       "20172"
      ]
     },
     "execution_count": 30,
     "metadata": {},
     "output_type": "execute_result"
    }
   ],
   "source": [
    "int(data.iloc[20000].name)"
   ]
  },
  {
   "cell_type": "code",
   "execution_count": 31,
   "id": "b207410a-83ef-4fba-8feb-e1b89f4d23ea",
   "metadata": {},
   "outputs": [
    {
     "data": {
      "text/plain": [
       "37292"
      ]
     },
     "execution_count": 31,
     "metadata": {},
     "output_type": "execute_result"
    }
   ],
   "source": [
    "len(to_remove)"
   ]
  },
  {
   "cell_type": "code",
   "execution_count": 32,
   "id": "41e062bd-3465-4c37-85f1-0aa459687446",
   "metadata": {},
   "outputs": [],
   "source": [
    "data = data[~data.index.isin(to_remove)]"
   ]
  },
  {
   "cell_type": "code",
   "execution_count": 33,
   "id": "cf470247-d089-4f3e-90e8-cc0ef3ae0bad",
   "metadata": {},
   "outputs": [],
   "source": [
    "data.to_csv('combined.tsv', sep='\\t', header=False, index=False, encoding='utf-8')"
   ]
  },
  {
   "cell_type": "code",
   "execution_count": null,
   "id": "bec98d29-b1d9-4864-9524-27a821b0de53",
   "metadata": {},
   "outputs": [],
   "source": []
  }
 ],
 "metadata": {
  "kernelspec": {
   "display_name": "Python 3 (ipykernel)",
   "language": "python",
   "name": "python3"
  },
  "language_info": {
   "codemirror_mode": {
    "name": "ipython",
    "version": 3
   },
   "file_extension": ".py",
   "mimetype": "text/x-python",
   "name": "python",
   "nbconvert_exporter": "python",
   "pygments_lexer": "ipython3",
   "version": "3.12.4"
  }
 },
 "nbformat": 4,
 "nbformat_minor": 5
}
